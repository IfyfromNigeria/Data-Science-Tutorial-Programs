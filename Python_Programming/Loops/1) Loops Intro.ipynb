{
 "cells": [
  {
   "cell_type": "markdown",
   "metadata": {},
   "source": [
    "### 1. What Are Loops?\n",
    "\n",
    "Loops are a way to repeat a block of code multiple times. They are used when you need to perform the same action several times, such as iterating through a list of items, processing data, or automating repetitive tasks.\n"
   ]
  },
  {
   "cell_type": "markdown",
   "metadata": {},
   "source": [
    "### 2. Types of Loops in Python\n",
    "\n",
    "Python supports two main types of loops:\n",
    "\n",
    "- `for` loops: Used for iterating over a sequence (e.g., a list, tuple, or string).\n",
    "- `while` loops: Used for executing a block of code as long as a specified condition is `True`.\n"
   ]
  },
  {
   "cell_type": "markdown",
   "metadata": {},
   "source": [
    "### 3. Anatomy of a Loop\n",
    "\n",
    "A loop consists of the following key components:\n",
    "\n",
    "- Initialization: Setting the initial conditions, such as initializing a loop variable.\n",
    "- Condition: Specifying the condition under which the loop continues.\n",
    "- Iteration: Updating the loop variable with each iteration.\n",
    "- Code Block: The block of code to be executed within the loop.\n"
   ]
  },
  {
   "cell_type": "markdown",
   "metadata": {},
   "source": [
    "### 4. `for` Loops\n",
    "\n",
    "The `for` loop is used when you know the number of iterations in advance, such as when you're iterating over a sequence of items. Here's the basic syntax of a `for` loop:\n",
    "\n",
    "```python\n",
    "for item in iterable:\n",
    "    # Code to execute for each item\n",
    "```\n"
   ]
  },
  {
   "cell_type": "markdown",
   "metadata": {},
   "source": [
    "### 5. `while` Loops\n",
    "\n",
    "The `while` loop is used when you want to repeat a block of code as long as a certain condition is `True`. The loop continues until the condition becomes `False`. Here's the basic syntax of a `while` loop:\n",
    "\n",
    "```python\n",
    "while condition:\n",
    "    # Code to execute while the condition is True\n",
    "```\n"
   ]
  },
  {
   "cell_type": "markdown",
   "metadata": {},
   "source": [
    "### 6. Loop Control Statements\n",
    "\n",
    "Python provides control statements that allow you to control the flow of a loop:\n",
    "\n",
    "- `break`: Exits the loop prematurely.\n",
    "- `continue`: Skips the current iteration and proceeds to the next.\n",
    "- `else`: Executes a block of code when the loop condition becomes `False`.\n"
   ]
  },
  {
   "cell_type": "markdown",
   "metadata": {},
   "source": [
    "### 7. Practical Exercises\n",
    "\n",
    "To master loops, practice is crucial. Try out the provided exercises to solidify your understanding and improve your programming skills.\n"
   ]
  }
 ],
 "metadata": {
  "kernelspec": {
   "display_name": "Python 3",
   "language": "python",
   "name": "python3"
  },
  "language_info": {
   "name": "python",
   "version": "3.8.10"
  },
  "nbformat": 4,
  "nbformat_minor": 4
 },
 "nbformat": 4,
 "nbformat_minor": 2
}
