{
 "cells": [
  {
   "cell_type": "markdown",
   "id": "f27aba3c",
   "metadata": {},
   "source": [
    "# LeonFruitsStore Project Explanation\n",
    "\n",
    "## Class Definition\n",
    "\n",
    "### Class Attributes\n",
    "\n",
    "#### `items_we_sell`\n",
    "\n",
    "The `items_we_sell` class-level attribute represents the store's inventory. It's a dictionary containing information about various fruits, such as their prices and available quantities."
   ]
  },
  {
   "cell_type": "code",
   "execution_count": null,
   "id": "2770e6d7",
   "metadata": {},
   "outputs": [],
   "source": [
    "class LeonFruitsStore:\n",
    "    items_we_sell = {\n",
    "    \"Banana\": {\"Price\": 12, \"QuantityAvailable\": 128},\n",
    "    \"Mango\": {\"Price\": 8, \"QuantityAvailable\": 64},\n",
    "    \"Orange\": {\"Price\": 9.5, \"QuantityAvailable\": 28},\n",
    "    \"Pineapple\": {\"Price\": 15, \"QuantityAvailable\": 43},\n",
    "    \"Apple\": {\"Price\": 13, \"QuantityAvailable\": 144},\n",
    "    \"Blueberry\": {\"Price\": 4, \"QuantityAvailable\": 612},\n",
    "    \"Grapes\": {\"Price\": 7.21, \"QuantityAvailable\": 74},\n",
    "    \"Strawberries\": {\"Price\": 3.5, \"QuantityAvailable\": 512},\n",
    "    \"Watermelon\": {\"Price\": 18, \"QuantityAvailable\": 34},\n",
    "    \"Guava\": {\"Price\": 8, \"QuantityAvailable\": 88},\n",
    "}"
   ]
  },
  {
   "cell_type": "markdown",
   "id": "afd2f811",
   "metadata": {},
   "source": [
    "#### Instance Attributes\n",
    "`__init__ Method`\n",
    "The __init__ method serves as the class constructor, initializing each store object with a unique name, an empty cart, and zero total amount."
   ]
  },
  {
   "cell_type": "code",
   "execution_count": null,
   "id": "890c25ca",
   "metadata": {},
   "outputs": [],
   "source": [
    "def __init__(self, name):\n",
    "    self.__name = name\n",
    "    self.__cart = {}\n",
    "    self.__total_amount = 0"
   ]
  },
  {
   "cell_type": "markdown",
   "id": "559592e9",
   "metadata": {},
   "source": [
    "#### Methods\n",
    "`add_to_cart Method`\n",
    "The add_to_cart method allows customers to add items to their shopping cart. Let's break down its functionality:"
   ]
  },
  {
   "cell_type": "code",
   "execution_count": null,
   "id": "87ec169b",
   "metadata": {},
   "outputs": [],
   "source": [
    "def add_to_cart(self, item_to_add):\n",
    "    self.__item_to_add = item_to_add\n",
    "\n",
    "    if self.__item_to_add in LeonFruitsStore.items_we_sell.keys():\n",
    "        # Check if the item is in stock\n",
    "        if LeonFruitsStore.items_we_sell[self.__item_to_add][\"QuantityAvailable\"] == 0:\n",
    "            print(f'\\nWe are currently out of stock for {self.__item_to_add}.')\n",
    "        # Check if the item is running low in stock\n",
    "        elif 0 < LeonFruitsStore.items_we_sell[self.__item_to_add][\"QuantityAvailable\"] <= 10:\n",
    "            print(f\"\\nWe are running low on {self.__item_to_add}. We currently have only {LeonFruitsStore.items_we_sell[self.__item_to_add]['QuantityAvailable']} available at the moment.\")\n",
    "        else:\n",
    "            # Check if the item is already in the cart\n",
    "            if self.__item_to_add in self.__cart:\n",
    "                # If yes, prompt the user for the quantity\n",
    "                while True:\n",
    "                    self.how_many_items_to_add = int(input(f\"Number of {self.__item_to_add} to add: \"))\n",
    "                    # Check if the specified quantity is within the available stock\n",
    "                    if (LeonFruitsStore.items_we_sell[self.__item_to_add][\"QuantityAvailable\"] - self.how_many_items_to_add) < 0:\n",
    "                        # If not, reject the action and display information about the item\n",
    "                        self.view_info_on_item(self.__item_to_add)\n",
    "                        print(f\"\\n\\nYou are trying to add {self.how_many_items_to_add} {self.__item_to_add}s. This is more than the amount of {self.__item_to_add}s available. This action is rejected. Please specify an amount within the range available.\")\n",
    "                    else:\n",
    "                        # If yes, update the cart and stock information\n",
    "                        self.how_many_items_to_add = int(input(f\"Number of {self.__item_to_add} to add: \"))\n",
    "                        self.__cart[self.__item_to_add][\"Quantity\"] += self.how_many_items_to_add\n",
    "                        self.__cart[self.__item_to_add][\"Total Amount\"] = self.__cart[self.__item_to_add][\"Quantity\"] * self.__cart[self.__item_to_add][\"Price\"]\n",
    "                        LeonFruitsStore.items_we_sell[self.__item_to_add][\"QuantityAvailable\"] -= self.how_many_items_to_add\n",
    "                        print(f\"{self.how_many_items_to_add} additional {self.__item_to_add}s have been added successfully to your cart.\")\n",
    "                        break\n",
    "            else:\n",
    "                switch1 = False\n",
    "                # If not, check if the cart is at its maximum capacity\n",
    "                while True:\n",
    "                    if len(self.__cart) == 10:\n",
    "                        print(f\"\\nWe are sorry, you can no longer add items to your cart as it has reached maximum capacity. Kindly remove an item first then proceed to add {self.__item_to_add} to the cart.\")\n",
    "                        remove_some_items_before_add = int(input(\"PRESS 1: Remove an item\\nPRESS 2: Exit\\nRESPONSE: \"))\n",
    "                        if remove_some_items_before_add == 1:\n",
    "                            self.view_cart()\n",
    "                            what_to_remove = input(\"\\nWhat will you like to remove from your cart above: \").capitalize().strip()\n",
    "                            self.remove_from_cart(what_to_remove)\n",
    "                            break\n",
    "                        else:\n",
    "                            break\n",
    "                    else:\n",
    "                        while True:\n",
    "                            # Prompt the user for the quantity to add\n",
    "                            self.how_many_items_to_add = int(input(f\"Number of {self.__item_to_add} to add: \"))\n",
    "                            # Check if the specified quantity is within the available stock\n",
    "                            if (LeonFruitsStore.items_we_sell[self.__item_to_add][\"QuantityAvailable\"] - self.how_many_items_to_add) < 0:\n",
    "                                # If not, reject the action and display information about the item\n",
    "                                self.view_info_on_item(self.__item_to_add)\n",
    "                                print(f\"\\n\\nYou are trying to add {self.how_many_items_to_add} {self.__item_to_add}s. This is more than the amount of {self.__item_to_add}s available. This action is rejected. Please specify an amount within the range available.\")\n",
    "                            else:\n",
    "                                # If yes, update the cart and stock information\n",
    "                                self.__cart[self.__item_to_add] = {\n",
    "                                    \"Price\": LeonFruitsStore.items_we_sell[self.__item_to_add][\"Price\"],\n",
    "                                    \"Quantity\": self.how_many_items_to_add,\n",
    "                                    \"Total Amount\": LeonFruitsStore.items_we_sell[self.__item_to_add][\"Price\"] * self.how_many_items_to_add\n",
    "                                }\n",
    "                                LeonFruitsStore.items_we_sell[self.__item_to_add][\"QuantityAvailable\"] -= self.how_many_items_to_add\n",
    "                                print(f\"{self.__item_to_add} has been added successfully.\")\n",
    "                                switch1 = True\n",
    "                                break\n",
    "                        if switch1:\n",
    "                            break\n",
    "    else:\n",
    "        print(f\"At LeonFruitsStore, we don't sell {self.__item_to_add}.\")\n"
   ]
  },
  {
   "cell_type": "markdown",
   "id": "e411ca1b",
   "metadata": {},
   "source": [
    "This method checks whether the requested item is available, in stock, and whether it's already in the cart. It then appropriately updates the cart and stock information based on these conditions.\n",
    "\n",
    "#### remove_from_cart Method\n",
    "The `remove_from_cart method` allows customers to remove items from their shopping cart. Let's break down its functionality:"
   ]
  },
  {
   "cell_type": "code",
   "execution_count": null,
   "id": "9c71737d",
   "metadata": {},
   "outputs": [],
   "source": [
    "def remove_from_cart(self, item_to_remove):\n",
    "    self.__item_to_remove = item_to_remove\n",
    "\n",
    "    # Check if the cart is empty\n",
    "    if len(self.__cart) == 0:\n",
    "        print(f\"\\nThis cart is empty, so you can't remove {self.__item_to_remove} from the cart.\")\n",
    "    else:\n",
    "        # Check if the item is in the cart\n",
    "        if self.__item_to_remove in self.__cart.keys():\n",
    "            # Ask the user whether to remove the entire purchase or reduce the quantity\n",
    "            remove_or_reduce = int(input(f\"\\nPRESS 1: To remove your entire purchase of {self.__item_to_remove} from your cart?\\n\"\n",
    "                                         f\"     OR\\nPRESS 2: To reduce the quantity of {self.__item_to_remove} to purchase\\nRESPONSE: \"))\n",
    "\n",
    "            if remove_or_reduce == 1:\n",
    "                # Remove the entire purchase\n",
    "                LeonFruitsStore.items_we_sell[self.__item_to_remove][\"QuantityAvailable\"] += self.__cart[self.__item_to_remove][\"Quantity\"]\n",
    "                self.__cart.pop(self.__item_to_remove)\n",
    "                print(f\"{self.__item_to_remove} has been removed successfully.\")\n",
    "            elif remove_or_reduce == 2:\n",
    "                # Reduce the quantity\n",
    "                print(f\"\\n\\nYou currently have {self.__cart[self.__item_to_remove]['Quantity']} {self.__item_to_remove}s in your cart\")\n",
    "                switch = False\n",
    "                while True:\n",
    "                    quantity_to_remove = int(input(f\"\\nPRESS 0: If you have changed your mind and do not want to reduce the quantity of anything in your cart\\n\"\n",
    "                                                   f\"     Else\\nHow many {self.__item_to_remove} will you like to remove: \"))\n",
    "                    if quantity_to_remove == 0:\n",
    "                        print(\"Nothing was removed.\")\n",
    "                        break\n",
    "                    elif self.__cart[self.__item_to_remove][\"Quantity\"] > quantity_to_remove:\n",
    "                        # Remove the specified quantity\n",
    "                        self.__cart[self.__item_to_remove][\"Quantity\"] -= quantity_to_remove\n",
    "                        LeonFruitsStore.items_we_sell[self.__item_to_remove][\"QuantityAvailable\"] += quantity_to_remove\n",
    "                        print(f\"You have successfully removed {quantity_to_remove} {self.__item_to_remove}s from your cart.\")\n",
    "                        break\n",
    "                    elif self.__cart[self.__item_to_remove][\"Quantity\"] < quantity_to_remove:\n",
    "                        print(f\"The quantity you specified is above the number of {self.__item_to_remove}s you currently have in your cart. Try again.\")\n",
    "                    elif self.__cart[self.__item_to_remove][\"Quantity\"] == quantity_to_remove:\n",
    "                        # Ask for confirmation to completely remove the purchase\n",
    "                        while True:\n",
    "                            proceed_with_removal = int(input(f\"You are attempting to completely REMOVE your purchase of {self.__item_to_remove}.\\n\"\n",
    "                                                               f\"    PRESS 1: Proceed\\n    PRESS 2: Stop this action\\nRESPONSE: \"))\n",
    "                            if proceed_with_removal == 1:\n",
    "                                # Remove the entire purchase\n",
    "                                print(f\"{self.__item_to_remove} has been removed from your cart successfully.\")\n",
    "                                LeonFruitsStore.items_we_sell[self.__item_to_remove][\"QuantityAvailable\"] += self.__cart[self.__item_to_remove][\"Quantity\"]\n",
    "                                self.__cart.pop(self.__item_to_remove)\n",
    "                                switch = True\n",
    "                                break\n",
    "                            elif proceed_with_removal == 2:\n",
    "                                print(\"Nothing was removed.\")\n",
    "                                switch = True\n",
    "                                break\n",
    "                            else:\n",
    "                                print(\"Invalid Response\")\n",
    "\n",
    "                        if switch:\n",
    "                            break\n",
    "        else:\n",
    "            print(\"\\nThis item is not in your cart.\")"
   ]
  },
  {
   "cell_type": "markdown",
   "id": "85c7bcc0",
   "metadata": {},
   "source": [
    "This method checks whether the cart is empty, if the specified item is in the cart, and then manages the removal process based on user input.\n",
    "\n",
    "#### view_cart Method\n",
    "The `view_cart method` displays the items in the cart if it's not empty. It also provides an option for the user to add more items if the cart is empty."
   ]
  },
  {
   "cell_type": "code",
   "execution_count": null,
   "id": "fa8f8879",
   "metadata": {},
   "outputs": [],
   "source": [
    "def view_cart(self):\n",
    "    if len(self.__cart) == 0:\n",
    "        # If the cart is empty, ask if the user wants to add an item\n",
    "        print(\"\\nYour cart is empty\")\n",
    "        while True:\n",
    "            will_you_like_to_add = input(\"\\nWill you like to add an item to your cart? Yes or No? \\nRESPONSE: \").capitalize().strip()\n",
    "            if will_you_like_to_add == \"Yes\":\n",
    "                self.view_our_items()\n",
    "                the_item_to_cart = input(\"Item: \").capitalize().strip()\n",
    "                self.add_to_cart(the_item_to_cart)\n",
    "                break\n",
    "            elif will_you_like_to_add == \"No\":\n",
    "                print(\"No item added\")\n",
    "                break\n",
    "            else:\n",
    "                print(\"Invalid Response\")\n",
    "    else:\n",
    "        # If the cart is not empty, display the items in the cart\n",
    "        count_items_in_cart = 1\n",
    "        print(\"\\nCART ITEMS: \")\n",
    "        for items in self.__cart:\n",
    "            print(f\"     {count_items_in_cart}) {items}\")\n",
    "            count_items_in_cart += 1"
   ]
  },
  {
   "cell_type": "markdown",
   "id": "a3d4d15e",
   "metadata": {},
   "source": [
    "This method checks if the cart is empty and prompts the user to add an item if it is. Otherwise, it displays the items in the cart.\n",
    "\n",
    "#### view_our_items Method\n",
    "The `view_our_items method` displays all available items in the store, including their prices and quantities."
   ]
  },
  {
   "cell_type": "code",
   "execution_count": null,
   "id": "2f4128ab",
   "metadata": {},
   "outputs": [],
   "source": [
    "def view_our_items(self):\n",
    "    print(\"\\n\")\n",
    "    for key, value in LeonFruitsStore.items_we_sell.items():\n",
    "        print(f\"{key} --->\\n     Price - ${value['Price']}\\n     Quantity in Stock - {value['QuantityAvailable']}\")"
   ]
  },
  {
   "cell_type": "markdown",
   "id": "724c80c9",
   "metadata": {},
   "source": [
    "This method iterates through the items_we_sell dictionary and prints information about each fruit.\n",
    "\n",
    "#### view_specific_item_we_sell Method\n",
    "The `view_specific_item_we_sell method` allows customers to get detailed information about a specific fruit."
   ]
  },
  {
   "cell_type": "code",
   "execution_count": null,
   "id": "070db693",
   "metadata": {},
   "outputs": [],
   "source": [
    "def view_specific_item_we_sell(self):\n",
    "        print(\"\\n\")\n",
    "        while True:\n",
    "            question = input(\"What fruit will you like information on? \").capitalize().strip()\n",
    "            info = int(input(\"PRESS 1: Full Information\\nPRESS 2: Price\\nPRESS 3: Quantity in Stock\\nRESPONSE: \"))\n",
    "            if info == 1:\n",
    "                # Display full information about the item\n",
    "                for key, value in LeonFruitsStore.items_we_sell.items():\n",
    "                    if key == question:\n",
    "                        print(f\"{key} --->\\n     Price - ${value['Price']}\\n     Quantity in Stock - {value['QuantityAvailable']}\")\n",
    "                break\n",
    "            elif info == 2:\n",
    "                # Display only the price of the item\n",
    "                for key, value in LeonFruitsStore.items_we_sell.items():\n",
    "                    if key == question:\n",
    "                        print(f\"Price of {key} - ${value['Price']}\")\n",
    "                break\n",
    "            elif info == 3:\n",
    "                # Display only the quantity in stock for the item\n",
    "                for key, value in LeonFruitsStore.items_we_sell.items():\n",
    "                    if key == question:\n",
    "                        print(f\"Quantity in Stock for {key} - {value['QuantityAvailable']}\")\n",
    "                break\n",
    "            else:\n",
    "                print(\"Invalid Response\")"
   ]
  },
  {
   "cell_type": "markdown",
   "id": "878d6cef",
   "metadata": {},
   "source": [
    "This method prompts the user for a specific fruit and provides information based on the user's choice (full information, price, or quantity in stock).\n",
    "\n",
    "#### view_info_on_item Method\n",
    "The `view_info_on_item method` displays detailed information about a specific fruit, including its price and available quantity."
   ]
  },
  {
   "cell_type": "code",
   "execution_count": null,
   "id": "7ed7641c",
   "metadata": {},
   "outputs": [],
   "source": [
    "# Method to view information about a specific item\n",
    "def view_info_on_item(self, item):\n",
    "    print(\"\\n\")\n",
    "    for key, value in LeonFruitsStore.items_we_sell.items():\n",
    "        if key == item:\n",
    "            print(f\"{key} --->\\n     Price - ${value['Price']}\\n     Quantity in Stock - {value['QuantityAvailable']}\")"
   ]
  },
  {
   "cell_type": "markdown",
   "id": "a0cff101",
   "metadata": {},
   "source": [
    "This method iterates through the items_we_sell dictionary, matches the specified item, and prints relevant information.\n",
    "\n",
    "#### total_bill_to_pay Method\n",
    "The `total_bill_to_pay method` calculates the total amount to be paid based on the items in the cart."
   ]
  },
  {
   "cell_type": "code",
   "execution_count": null,
   "id": "1c38cc6c",
   "metadata": {},
   "outputs": [],
   "source": [
    "# Method to calculate the total amount to pay\n",
    "def total_bill_to_pay(self):\n",
    "    for key, value in self.__cart.items():\n",
    "        self.__total_amount += value[\"Total Amount\"]\n",
    "    return self.__total_amount"
   ]
  },
  {
   "cell_type": "markdown",
   "id": "8b38da58",
   "metadata": {},
   "source": [
    "This method iterates through the items in the cart, accumulating the total amount to be paid.\n",
    "\n",
    "#### checkout Method\n",
    "The `checkout method` is a placeholder for the checkout process. This is where the actual payment and order finalization logic would be implemented."
   ]
  },
  {
   "cell_type": "code",
   "execution_count": null,
   "id": "052924ff",
   "metadata": {},
   "outputs": [],
   "source": [
    "# Method for the checkout process (To be implemented)\n",
    "def checkout(self):\n",
    "    pass"
   ]
  },
  {
   "cell_type": "markdown",
   "id": "e36e92ba",
   "metadata": {},
   "source": [
    "This method is yet to be implemented and would typically involve processing the payment, updating inventory levels, generating an order confirmation, and any other steps required for completing a purchase."
   ]
  }
 ],
 "metadata": {
  "kernelspec": {
   "display_name": "Python 3 (ipykernel)",
   "language": "python",
   "name": "python3"
  },
  "language_info": {
   "codemirror_mode": {
    "name": "ipython",
    "version": 3
   },
   "file_extension": ".py",
   "mimetype": "text/x-python",
   "name": "python",
   "nbconvert_exporter": "python",
   "pygments_lexer": "ipython3",
   "version": "3.9.16"
  }
 },
 "nbformat": 4,
 "nbformat_minor": 5
}
