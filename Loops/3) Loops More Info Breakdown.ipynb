{
    "cells": [
        {
            "cell_type": "markdown",
            "metadata": {},
            "source": [
                "## Mastering Loops in Python (Part 3: In-Depth Exploration of `for` Loops)\n",
                "\n",
                "### Table of Contents\n",
                "1. Introduction\n",
                "2. Anatomy of a `for` Loop\n",
                "3. Iterating Through Sequences\n",
                "4. The `range()` Function\n",
                "5. Practical Examples\n",
                "6. Nested `for` Loops\n",
                "7. Loop Control Statements\n",
                "8. Practical Exercises\n"
            ]
        },
        {
            "cell_type": "markdown",
            "metadata": {},
            "source": [
                "### 1. Introduction\n",
                "\n",
                "In this section, we will explore `for` loops in-depth, understanding their syntax, applications, and nuances. `for` loops are excellent for iterating over sequences like lists, strings, and ranges."
            ]
        },
        {
            "cell_type": "markdown",
            "metadata": {},
            "source": [
                "### 2. Anatomy of a `for` Loop\n",
                "\n",
                "A `for` loop consists of the following parts:\n",
                "- The `for` keyword.\n",
                "- A loop variable that takes each value from a sequence.\n",
                "- The `in` keyword.\n",
                "- An iterable or sequence.\n",
                "- A colon to define the block of code to be executed."
            ]
        },
        {
            "cell_type": "code",
            "execution_count": null,
            "metadata": {},
            "outputs": [],
            "source": [
                "# Example: Anatomy of a for Loop\n",
                "fruits = [\"apple\", \"banana\", \"cherry\"]\n",
                "for fruit in fruits:\n",
                "    print(fruit)"
            ]
        },
        {
            "cell_type": "markdown",
            "metadata": {},
            "source": [
                "### 3. Iterating Through Sequences\n",
                "\n",
                "You can iterate through various sequences, such as lists, strings, and dictionaries, using `for` loops."
            ]
        },
        {
            "cell_type": "code",
            "execution_count": null,
            "metadata": {},
            "outputs": [],
            "source": [
                "# Example: Iterating Through a List\n",
                "fruits = [\"apple\", \"banana\", \"cherry\"]\n",
                "for fruit in fruits:\n",
                "    print(fruit)"
            ]
        },
        {
            "cell_type": "markdown",
            "metadata": {},
            "source": [
                "### 4. The `range()` Function\n",
                "\n",
                "The `range()` function generates a sequence of numbers and is often used with `for` loops."
            ]
        },
        {
            "cell_type": "code",
            "execution_count": null,
            "metadata": {},
            "outputs": [],
            "source": [
                "# Example: Using the range() Function with a for Loop\n",
                "for i in range(5):\n",
                "    print(i)"
            ]
        },
        {
            "cell_type": "markdown",
            "metadata": {},
            "source": [
                "### 5. Practical Examples\n",
                "\n",
                "Let's explore practical examples of `for` loops, including:\n",
                "- Summing numbers in a list.\n",
                "- Finding the maximum value in a list.\n",
                "- Counting the occurrences of an element in a list.\n",
                "- Iterating through a string and more."
            ]
        },
        {
            "cell_type": "code",
            "execution_count": null,
            "metadata": {},
            "outputs": [],
            "source": [
                "# Example: Summing Numbers in a List\n",
                "numbers = [1, 2, 3, 4, 5]\n",
                "sum_result = 0\n",
                "for num in numbers:\n",
                "    sum_result += num\n",
                "print(f'The sum is: {sum_result}')"
            ]
        },
        {
            "cell_type": "markdown",
            "metadata": {},
            "source": [
                "### 6. Nested `for` Loops\n",
                "\n",
                "Sometimes, you need to nest `for` loops to work with two-dimensional data structures. Understand the intricacies of nested loops and their applications."
            ]
        },
        {
            "cell_type": "code",
            "execution_count": null,
            "metadata": {},
            "outputs": [],
            "source": [
                "# Example: Nested for Loops\n",
                "matrix = [[1, 2, 3], [4, 5, 6], [7, 8, 9]]\n",
                "for row in matrix:\n",
                "    for element in row:\n",
                "        print(element)"
            ]
        },
        {
            "cell_type": "markdown",
            "metadata": {},
            "source": [
                "### 7. Loop Control Statements\n",
                "\n",
                "Learn how to control the flow of a `for` loop with control statements like `break`, `continue`, and the `else` clause."
            ]
        },
        {
            "cell_type": "code",
            "execution_count": null,
            "metadata": {},
            "outputs": [],
            "source": [
                "# Example: Using break\n",
                "numbers = [1, 2, 3, 4, 5, 6, 7]\n",
                "for num in numbers:\n",
                "    if num == 4:\n",
                "        break\n",
                "    print(num)"
            ]
        },
        {
            "cell_type": "markdown",
            "metadata": {},
            "source": [
                "### 8. Practical Exercises\n",
                "\n",
                "Practice is essential to mastering loops. Complete exercises on iterating through lists, solving problems, and generating various patterns."
            ]
        }
    ],
    "metadata": {
        "kernelspec": {
            "display_name": "Python 3",
            "language": "python",
            "name": "python3"
        },
        "language_info": {
            "name": "python",
            "version": "3.8.10"
        },
        "nbformat": 4,
        "nbformat_minor": 4
    },
    "nbformat": 4,
    "nbformat_minor": 2
}
