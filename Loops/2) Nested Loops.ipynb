{
 "cells": [
  {
   "cell_type": "markdown",
   "metadata": {},
   "source": [
    "## Mastering Loops in Python (Part 2: Nested Loops)\n",
    "\n",
    "In this part of the series, we will delve deeper into nested loops. Nested loops are a powerful construct in Python, allowing you to create complex patterns, iterate through multi-dimensional data, and solve a wide range of problems.\n",
    "\n",
    "### Table of Contents\n",
    "1. Introduction to Nested Loops\n",
    "2. Syntax of Nested Loops\n",
    "3. Practical Examples\n",
    "4. Nested Loop Patterns\n",
    "5. Nested Loops in Data Structures\n",
    "6. Practical Exercises\n"
   ]
  },
  {
   "cell_type": "markdown",
   "metadata": {},
   "source": [
    "### 1. Introduction to Nested Loops\n",
    "\n",
    "Nested loops occur when one loop is placed inside another loop. The inner loop runs completely for each iteration of the outer loop. This concept is invaluable for working with multi-dimensional data structures and creating complex patterns.\n"
   ]
  },
  {
   "cell_type": "markdown",
   "metadata": {},
   "source": [
    "### 2. Syntax of Nested Loops\n",
    "\n",
    "The syntax for nested loops consists of multiple indentation levels, with each level representing a different loop. Here's the basic structure:\n",
    "\n",
    "```python\n",
    "for outer_item in outer_sequence:\n",
    "    # Code for outer loop\n",
    "    for inner_item in inner_sequence:\n",
    "        # Code for inner loop\n",
    "```\n",
    "\n",
    "The inner loop is indented further, making it part of the outer loop.\n"
   ]
  },
  {
   "cell_type": "code",
   "execution_count": null,
   "metadata": {},
   "outputs": [],
   "source": [
    "# Example: Nested Loop to Print Multiplication Table\n",
    "for i in range(1, 6):\n",
    "    for j in range(1, 11):\n",
    "        result = i * j\n",
    "        print(f'{i} x {j} = {result}')"
   ]
  },
  {
   "cell_type": "markdown",
   "metadata": {},
   "source": [
    "### 3. Practical Examples\n",
    "\n",
    "Nested loops can be used to solve various problems. Let's explore some practical examples:\n",
    "\n",
    "- Generating patterns using nested loops\n",
    "- Finding the maximum value in a two-dimensional list\n",
    "- Searching for an element in a two-dimensional list\n",
    "- Working with matrices\n",
    "- Printing a triangle pattern\n"
   ]
  },
  {
   "cell_type": "code",
   "execution_count": null,
   "metadata": {},
   "outputs": [],
   "source": [
    "# Example: Print a Triangle Pattern\n",
    "rows = 5\n",
    "for i in range(rows):\n",
    "    for j in range(i + 1):\n",
    "        print('*', end=' ')\n",
    "    print()"
   ]
  },
  {
   "cell_type": "markdown",
   "metadata": {},
   "source": [
    "### 4. Nested Loop Patterns\n",
    "\n",
    "Nested loops are fantastic for generating patterns. Let's explore some common patterns:\n",
    "\n",
    "- Right-angled triangle\n",
    "- Inverted right-angled triangle\n",
    "- Square pattern\n"
   ]
  },
  {
   "cell_type": "code",
   "execution_count": null,
   "metadata": {},
   "outputs": [],
   "source": [
    "# Example: Right-Angled Triangle Pattern\n",
    "rows = 5\n",
    "for i in range(rows):\n",
    "    for j in range(i + 1):\n",
    "        print('*', end=' ')\n",
    "    print()"
   ]
  },
  {
   "cell_type": "code",
   "execution_count": null,
   "metadata": {},
   "outputs": [],
   "source": [
    "# Example: Inverted Right-Angled Triangle Pattern\n",
    "rows = 5\n",
    "for i in range(rows, 0, -1):\n",
    "    for j in range(0, i):\n",
    "        print('*', end=' ')\n",
    "    print()"
   ]
  },
  {
   "cell_type": "markdown",
   "metadata": {},
   "source": [
    "### 5. Nested Loops in Data Structures\n",
    "\n",
    "Nested loops are commonly used to work with multi-dimensional data structures like lists of lists (matrices). Let's see how nested loops can process such data.\n"
   ]
  },
  {
   "cell_type": "code",
   "execution_count": null,
   "metadata": {},
   "outputs": [],
   "source": [
    "# Example: Finding Maximum Value in a Matrix\n",
    "matrix = [\n",
    "    [3, 7, 2],\n",
    "    [5, 2, 9],\n",
    "    [1, 8, 4]\n",
    "]\n",
    "max_value = matrix[0][0]\n",
    "for row in matrix:\n",
    "    for element in row:\n",
    "        if element > max_value:\n",
    "            max_value = element\n",
    "print(f'The maximum value in the matrix is {max_value}')"
   ]
  },
  {
   "cell_type": "markdown",
   "metadata": {},
   "source": [
    "### 6. Practical Exercises\n",
    "\n",
    "Practice is essential for mastering nested loops. Try out the provided exercises and explore new patterns and data structures.\n"
   ]
  }
 ],
 "metadata": {
  "kernelspec": {
   "display_name": "Python 3",
   "language": "python",
   "name": "python3"
  },
  "language_info": {
   "name": "python",
   "version": "3.11.3"
  }
 },
 "nbformat": 4,
 "nbformat_minor": 4
}
